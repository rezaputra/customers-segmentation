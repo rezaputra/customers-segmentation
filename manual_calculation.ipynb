{
 "cells": [
  {
   "cell_type": "code",
   "execution_count": 74,
   "metadata": {},
   "outputs": [],
   "source": [
    "import pandas as pd\n",
    "import numpy as np\n",
    "from sklearn.neighbors import NearestNeighbors\n",
    "from sklearn.metrics import silhouette_score\n",
    "from sklearn.preprocessing import StandardScaler\n",
    "from scipy.special import gamma"
   ]
  },
  {
   "cell_type": "code",
   "execution_count": 75,
   "metadata": {},
   "outputs": [],
   "source": [
    "df = pd.read_csv('dataset/test/manual_data.csv')\n",
    "n = len(df)\n",
    "k = round((n**(3/8))+1)\n",
    "# df.pop('id')\n",
    "# result1 = pd.read_csv('dataset/test/result1.csv')\n",
    "# result2 = pd.read_csv('dataset/test/result2.csv')\n",
    "\n",
    "# score1 = silhouette_score(df,result1)\n",
    "# score2 = silhouette_score(df,result2)"
   ]
  },
  {
   "cell_type": "code",
   "execution_count": 76,
   "metadata": {},
   "outputs": [],
   "source": [
    "scaler = StandardScaler()\n",
    "scale = scaler.fit_transform(df)"
   ]
  },
  {
   "cell_type": "code",
   "execution_count": 77,
   "metadata": {},
   "outputs": [],
   "source": [
    "model = NearestNeighbors(n_neighbors=k, metric='euclidean')\n",
    "\n",
    "# Fit the model to the data\n",
    "model.fit(scale)\n",
    "\n",
    "# Find the k nearest neighbors for each point in X\n",
    "d, i = model.kneighbors(scale)"
   ]
  },
  {
   "cell_type": "code",
   "execution_count": 78,
   "metadata": {},
   "outputs": [],
   "source": [
    "distances = d[:, 1:]\n",
    "indices = i[:, 1:]\n",
    "further_n = [row[-1] for row in d]\n",
    "further_n = np.array(further_n)"
   ]
  },
  {
   "cell_type": "code",
   "execution_count": 79,
   "metadata": {},
   "outputs": [],
   "source": [
    "Vx = np.prod(distances, axis=1)\n",
    "# Vx = np.pi**((k-1)/2) / gamma((k-1)/2 + 1) * further_n**(k-1)\n",
    "\n",
    "mulByK = distances * (k-1)\n",
    "# Hx = np.pi**((k-1)/2) / gamma((k-1)/2 + 1) * (further_n*(k-1))**(k-1)\n",
    "Hx = mulByK.sum(axis=1)\n",
    "\n",
    "onePernVx = 1 / (n * Vx)\n",
    "\n",
    "de = 1 - (distances / Hx.reshape(n,1))\n",
    "sum = Vx * (de.sum(axis=1))"
   ]
  },
  {
   "cell_type": "code",
   "execution_count": 80,
   "metadata": {},
   "outputs": [],
   "source": [
    "def triangular_kernel(x):\n",
    "    return np.maximum(0, 1 - np.abs(x))"
   ]
  },
  {
   "cell_type": "code",
   "execution_count": 81,
   "metadata": {},
   "outputs": [],
   "source": [
    "px = np.array([triangular_kernel(x) for x in sum])"
   ]
  },
  {
   "cell_type": "code",
   "execution_count": 82,
   "metadata": {},
   "outputs": [
    {
     "data": {
      "text/plain": [
       "array([0.19985614, 0.00677012, 2.66055689, 0.31410041, 0.05941634,\n",
       "       0.1385984 , 0.36065457, 0.44896301, 0.28797203, 1.74158583,\n",
       "       0.31453493, 0.00444742, 0.11449055, 0.19283202, 0.10991041,\n",
       "       0.00905546, 0.49453747, 4.0780326 , 0.02464206, 0.2585936 ])"
      ]
     },
     "execution_count": 82,
     "metadata": {},
     "output_type": "execute_result"
    }
   ],
   "source": [
    "sum"
   ]
  },
  {
   "cell_type": "code",
   "execution_count": 83,
   "metadata": {},
   "outputs": [
    {
     "name": "stdout",
     "output_type": "stream",
     "text": [
      "[[0.7414064  0.94058366 0.99094454]\n",
      " [0.99555258 0.99094454 0.97535794]\n",
      " [0.         0.         0.88550945]\n",
      " [0.63934543 0.80014386 0.7414064 ]\n",
      " [0.99322988 0.99555258 0.99094454]\n",
      " [0.80716798 0.50546253 0.89008959]\n",
      " [0.68589959 0.80014386 0.7414064 ]\n",
      " [0.68546507 0.94058366 0.80014386]\n",
      " [0.7414064  0.97535794 0.80014386]\n",
      " [0.         0.         0.88550945]\n",
      " [0.55103699 0.80014386 0.63934543]\n",
      " [0.99322988 0.99094454 0.97535794]\n",
      " [0.89008959 0.50546253 0.8614016 ]\n",
      " [0.8614016  0.50546253 0.89008959]\n",
      " [0.88550945 0.50546253 0.8614016 ]\n",
      " [0.99555258 0.99322988 0.97535794]\n",
      " [0.8614016  0.80716798 0.89008959]\n",
      " [0.         0.         0.88550945]\n",
      " [0.99094454 0.99322988 0.99555258]\n",
      " [0.80014386 0.71202797 0.68589959]]\n"
     ]
    }
   ],
   "source": [
    "# Create an array of zeros with the same shape as indices\n",
    "pxMatrix = np.zeros(indices.shape)\n",
    "\n",
    "# Loop through the indices array and replace with the corresponding value\n",
    "for i in range(indices.shape[0]):\n",
    "    for j in range(indices.shape[1]):\n",
    "        pxMatrix[i, j] = px[indices[i, j]]\n",
    "\n",
    "print(pxMatrix)"
   ]
  },
  {
   "cell_type": "code",
   "execution_count": 84,
   "metadata": {},
   "outputs": [],
   "source": [
    "mx = indices + 1"
   ]
  },
  {
   "cell_type": "code",
   "execution_count": 85,
   "metadata": {},
   "outputs": [
    {
     "name": "stdout",
     "output_type": "stream",
     "text": [
      "[[1, 16], [2, 12], [3, 13], [4, 1], [5, 12], [6, 15], [7, 1], [8, 5], [9, 19], [10, 13], [11, 1], [12, 2], [13, 15], [14, 15], [15, 13], [16, 12], [17, 15], [18, 13], [19, 12], [20, 1]]\n"
     ]
    }
   ],
   "source": [
    "max_index_values = []\n",
    "\n",
    "# Loop through each sub-array in the value array\n",
    "for i, sub_array in enumerate(pxMatrix):\n",
    "    # Find the index of the maximal value in the sub-array\n",
    "    max_index = np.argmax(sub_array)\n",
    "    # Get the corresponding index from the index array\n",
    "    max_index_value = mx[i, max_index]\n",
    "    # Append the max_index_value to the new array\n",
    "    max_index_values.append([i + 1, max_index_value])\n",
    "\n",
    "# Print the result\n",
    "print(max_index_values)"
   ]
  },
  {
   "cell_type": "code",
   "execution_count": 86,
   "metadata": {},
   "outputs": [],
   "source": [
    "def merge_subarrays(arrays):\n",
    "    # Flatten the list of subarrays into a single list\n",
    "    flattened = [item for sublist in arrays for item in sublist]\n",
    "\n",
    "    # Repeat until there are no changes\n",
    "    while True:\n",
    "        # Create a set of unique values in the flattened list\n",
    "        unique_values = set(flattened)\n",
    "\n",
    "        # Merge subarrays that have the same members and remove duplicates\n",
    "        new_arrays = []\n",
    "        for value in unique_values:\n",
    "            subarrays_with_value = [subarray for subarray in arrays if value in subarray]\n",
    "            if len(subarrays_with_value) > 1:\n",
    "                merged_subarray = list(set([item for sublist in subarrays_with_value for item in sublist]))\n",
    "                new_arrays.append(merged_subarray)\n",
    "            else:\n",
    "                new_arrays.extend(subarrays_with_value)\n",
    "\n",
    "        # Check if the arrays have changed and update the arrays if necessary\n",
    "        if new_arrays == arrays:\n",
    "            break\n",
    "        arrays = new_arrays\n",
    "        flattened = [item for sublist in arrays for item in sublist]\n",
    "\n",
    "    return arrays\n"
   ]
  },
  {
   "cell_type": "code",
   "execution_count": 87,
   "metadata": {},
   "outputs": [],
   "source": [
    "merged = merge_subarrays(max_index_values)"
   ]
  },
  {
   "cell_type": "code",
   "execution_count": 88,
   "metadata": {},
   "outputs": [
    {
     "name": "stdout",
     "output_type": "stream",
     "text": [
      "[[3, 6, 10, 13, 14, 15, 17, 18], [1, 2, 4, 5, 7, 8, 9, 11, 12, 16, 19, 20]]\n"
     ]
    }
   ],
   "source": [
    "unique_tuples = set(tuple(sorted(merged[i])) for i in range(len(merged)))\n",
    "unique_lst = [list(t) for t in unique_tuples]\n",
    "\n",
    "print(unique_lst)\n"
   ]
  }
 ],
 "metadata": {
  "kernelspec": {
   "display_name": "env",
   "language": "python",
   "name": "python3"
  },
  "language_info": {
   "codemirror_mode": {
    "name": "ipython",
    "version": 3
   },
   "file_extension": ".py",
   "mimetype": "text/x-python",
   "name": "python",
   "nbconvert_exporter": "python",
   "pygments_lexer": "ipython3",
   "version": "3.10.0"
  },
  "orig_nbformat": 4,
  "vscode": {
   "interpreter": {
    "hash": "d7b04cc5ae93a69bfbb6789a48623c26e6dc055ec2fbd0a25dd36e2455bcecfe"
   }
  }
 },
 "nbformat": 4,
 "nbformat_minor": 2
}
