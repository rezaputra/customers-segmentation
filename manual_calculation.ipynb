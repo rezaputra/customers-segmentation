{
 "cells": [
  {
   "cell_type": "code",
   "execution_count": 36,
   "metadata": {},
   "outputs": [],
   "source": [
    "import pandas as pd\n",
    "import numpy as np\n",
    "from sklearn.neighbors import NearestNeighbors\n",
    "from sklearn.metrics import silhouette_score\n",
    "from sklearn.preprocessing import StandardScaler\n",
    "from scipy.special import gamma"
   ]
  },
  {
   "cell_type": "code",
   "execution_count": 3,
   "metadata": {},
   "outputs": [],
   "source": [
    "df = pd.read_csv('dataset/test/manual_data.csv')\n",
    "n = len(df)\n",
    "k = round((n**(3/8))+1)\n",
    "# df.pop('id')\n",
    "# result1 = pd.read_csv('dataset/test/result1.csv')\n",
    "# result2 = pd.read_csv('dataset/test/result2.csv')\n",
    "\n",
    "# score1 = silhouette_score(df,result1)\n",
    "# score2 = silhouette_score(df,result2)"
   ]
  },
  {
   "cell_type": "code",
   "execution_count": 4,
   "metadata": {},
   "outputs": [],
   "source": [
    "scaler = StandardScaler()\n",
    "scale = scaler.fit_transform(df)"
   ]
  },
  {
   "cell_type": "code",
   "execution_count": 5,
   "metadata": {},
   "outputs": [],
   "source": [
    "model = NearestNeighbors(n_neighbors=k, metric='euclidean')\n",
    "\n",
    "# Fit the model to the data\n",
    "model.fit(scale)\n",
    "\n",
    "# Find the k nearest neighbors for each point in X\n",
    "d, i = model.kneighbors(scale)"
   ]
  },
  {
   "cell_type": "code",
   "execution_count": 46,
   "metadata": {},
   "outputs": [],
   "source": [
    "distances = d[:, 1:]\n",
    "indices = i[:, 1:]\n",
    "further_n = [row[-1] for row in d]\n",
    "further_n = np.array(further_n)"
   ]
  },
  {
   "cell_type": "code",
   "execution_count": 60,
   "metadata": {},
   "outputs": [],
   "source": [
    "Vx = np.prod(distances, axis=1)\n",
    "# Vx = np.pi**((k-1)/2) / gamma((k-1)/2 + 1) * further_n**(k-1)\n",
    "\n",
    "mulByK = distances * (k-1)\n",
    "# Hx = np.pi**((k-1)/2) / gamma((k-1)/2 + 1) * (further_n*(k-1))**(k-1)\n",
    "Hx = mulByK.sum(axis=1)\n",
    "\n",
    "onePernVx = 1 / (n * Vx)\n",
    "\n",
    "de = 1 - (distances / Hx.reshape(n,1))\n",
    "sum = onePernVx * de.sum(axis=1)"
   ]
  },
  {
   "cell_type": "code",
   "execution_count": 61,
   "metadata": {},
   "outputs": [],
   "source": [
    "def triangular_kernel(x):\n",
    "    return np.maximum(0, 1 - np.abs(x))"
   ]
  },
  {
   "cell_type": "code",
   "execution_count": 62,
   "metadata": {},
   "outputs": [],
   "source": [
    "px = np.array([triangular_kernel(x) for x in sum])"
   ]
  },
  {
   "cell_type": "code",
   "execution_count": 67,
   "metadata": {},
   "outputs": [
    {
     "name": "stdout",
     "output_type": "stream",
     "text": [
      "[[0.         0.         0.        ]\n",
      " [0.         0.         0.        ]\n",
      " [0.79584379 0.91281199 0.        ]\n",
      " [0.01413821 0.         0.        ]\n",
      " [0.         0.         0.        ]\n",
      " [0.         0.28103414 0.        ]\n",
      " [0.         0.         0.        ]\n",
      " [0.         0.         0.        ]\n",
      " [0.         0.         0.        ]\n",
      " [0.86636048 0.91281199 0.        ]\n",
      " [0.20805157 0.         0.01413821]\n",
      " [0.         0.         0.        ]\n",
      " [0.         0.28103414 0.        ]\n",
      " [0.         0.28103414 0.        ]\n",
      " [0.         0.28103414 0.        ]\n",
      " [0.         0.         0.        ]\n",
      " [0.         0.         0.        ]\n",
      " [0.79584379 0.86636048 0.        ]\n",
      " [0.         0.         0.        ]\n",
      " [0.         0.         0.        ]]\n"
     ]
    }
   ],
   "source": [
    "# Create an array of zeros with the same shape as indices\n",
    "output = np.zeros(indices.shape)\n",
    "\n",
    "# Loop through the indices array and replace with the corresponding value\n",
    "for i in range(indices.shape[0]):\n",
    "    for j in range(indices.shape[1]):\n",
    "        output[i, j] = px[indices[i, j]]\n",
    "\n",
    "print(output)"
   ]
  }
 ],
 "metadata": {
  "kernelspec": {
   "display_name": "env",
   "language": "python",
   "name": "python3"
  },
  "language_info": {
   "codemirror_mode": {
    "name": "ipython",
    "version": 3
   },
   "file_extension": ".py",
   "mimetype": "text/x-python",
   "name": "python",
   "nbconvert_exporter": "python",
   "pygments_lexer": "ipython3",
   "version": "3.10.0"
  },
  "orig_nbformat": 4,
  "vscode": {
   "interpreter": {
    "hash": "d7b04cc5ae93a69bfbb6789a48623c26e6dc055ec2fbd0a25dd36e2455bcecfe"
   }
  }
 },
 "nbformat": 4,
 "nbformat_minor": 2
}
