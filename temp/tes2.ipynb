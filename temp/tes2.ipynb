{
 "cells": [
  {
   "cell_type": "code",
   "execution_count": 185,
   "metadata": {},
   "outputs": [],
   "source": [
    "import pandas as pd\n",
    "import numpy as np\n",
    "from sklearn.neighbors import NearestNeighbors\n",
    "from sklearn.metrics import silhouette_score\n",
    "from sklearn.preprocessing import StandardScaler\n",
    "from scipy.special import gamma\n",
    "from scipy.sparse.csgraph import connected_components\n",
    "from scipy.sparse import csr_matrix\n",
    "import matplotlib.pyplot as plt\n",
    "from sklearn.preprocessing import LabelEncoder"
   ]
  },
  {
   "cell_type": "code",
   "execution_count": 186,
   "metadata": {},
   "outputs": [],
   "source": [
    "df = pd.read_csv('dataset/test/manual_data.csv')\n",
    "# df = pd.read_csv('dataset/test/manual_data_categorical.csv')\n",
    "df = df.apply(LabelEncoder().fit_transform)\n",
    "n = len(df)\n",
    "k = round((n**(3/8))+1)\n",
    "# df.pop('id')\n",
    "# result1 = pd.read_csv('dataset/test/result1.csv')\n",
    "# result2 = pd.read_csv('dataset/test/result2.csv')\n",
    "\n",
    "# score1 = silhouette_score(df,result1)\n",
    "# score2 = silhouette_score(df,result2)"
   ]
  },
  {
   "cell_type": "code",
   "execution_count": 187,
   "metadata": {},
   "outputs": [],
   "source": [
    "scaler = StandardScaler()\n",
    "scale = scaler.fit_transform(df)"
   ]
  },
  {
   "cell_type": "code",
   "execution_count": 188,
   "metadata": {},
   "outputs": [],
   "source": [
    "model = NearestNeighbors(n_neighbors=k, metric='euclidean')\n",
    "\n",
    "# Fit the model to the data\n",
    "model.fit(scale)\n",
    "\n",
    "# Find the k nearest neighbors for each point in X\n",
    "d, i = model.kneighbors(scale)"
   ]
  },
  {
   "cell_type": "code",
   "execution_count": 189,
   "metadata": {},
   "outputs": [],
   "source": [
    "distances = d[:, 1:]\n",
    "indices = i[:, 1:]\n",
    "further_n = [row[-1] for row in d]\n",
    "further_n = np.array(further_n)"
   ]
  },
  {
   "cell_type": "code",
   "execution_count": 190,
   "metadata": {},
   "outputs": [],
   "source": [
    "Vx = np.prod(distances, axis=1)\n",
    "# Vx = np.pi**((k-1)/2) / gamma((k-1)/2 + 1) * further_n**(k-1)\n",
    "\n",
    "mulByK = distances * (k-1)\n",
    "# Hx = np.pi**((k-1)/2) / gamma((k-1)/2 + 1) * (further_n*(k-1))**(k-1)\n",
    "Hx = mulByK.sum(axis=1)\n",
    "\n",
    "onePernVx = 1 / (n * Vx)\n",
    "\n",
    "de = 1 - (distances / Hx.reshape(n,1))\n",
    "sum = Vx * (de.sum(axis=1))"
   ]
  },
  {
   "cell_type": "code",
   "execution_count": 191,
   "metadata": {},
   "outputs": [],
   "source": [
    "def triangular_kernel(x):\n",
    "    return np.maximum(0, 1 - np.abs(x))"
   ]
  },
  {
   "cell_type": "code",
   "execution_count": 192,
   "metadata": {},
   "outputs": [],
   "source": [
    "px = np.array([triangular_kernel(x) for x in sum])"
   ]
  },
  {
   "cell_type": "code",
   "execution_count": 203,
   "metadata": {},
   "outputs": [
    {
     "ename": "IndexError",
     "evalue": "tuple index out of range",
     "output_type": "error",
     "traceback": [
      "\u001b[1;31m---------------------------------------------------------------------------\u001b[0m",
      "\u001b[1;31mIndexError\u001b[0m                                Traceback (most recent call last)",
      "Cell \u001b[1;32mIn[203], line 1\u001b[0m\n\u001b[1;32m----> 1\u001b[0m indices\u001b[39m.\u001b[39;49mshape[\u001b[39m1\u001b[39;49m]\n",
      "\u001b[1;31mIndexError\u001b[0m: tuple index out of range"
     ]
    }
   ],
   "source": [
    "indices.shape[1]"
   ]
  },
  {
   "cell_type": "code",
   "execution_count": 204,
   "metadata": {},
   "outputs": [
    {
     "ename": "IndexError",
     "evalue": "tuple index out of range",
     "output_type": "error",
     "traceback": [
      "\u001b[1;31m---------------------------------------------------------------------------\u001b[0m",
      "\u001b[1;31mIndexError\u001b[0m                                Traceback (most recent call last)",
      "Cell \u001b[1;32mIn[204], line 6\u001b[0m\n\u001b[0;32m      4\u001b[0m \u001b[39m# Loop through the indices array and replace with the corresponding value\u001b[39;00m\n\u001b[0;32m      5\u001b[0m \u001b[39mfor\u001b[39;00m i \u001b[39min\u001b[39;00m \u001b[39mrange\u001b[39m(indices\u001b[39m.\u001b[39mshape[\u001b[39m0\u001b[39m]):\n\u001b[1;32m----> 6\u001b[0m     \u001b[39mfor\u001b[39;00m j \u001b[39min\u001b[39;00m \u001b[39mrange\u001b[39m(indices\u001b[39m.\u001b[39;49mshape[\u001b[39m1\u001b[39;49m]):\n\u001b[0;32m      7\u001b[0m         pxMatrix[i, j] \u001b[39m=\u001b[39m px[indices[i, j]]\n\u001b[0;32m      9\u001b[0m \u001b[39mprint\u001b[39m(pxMatrix)\n",
      "\u001b[1;31mIndexError\u001b[0m: tuple index out of range"
     ]
    }
   ],
   "source": [
    "# Create an array of zeros with the same shape as indices\n",
    "pxMatrix = np.zeros(indices.shape)\n",
    "\n",
    "# Loop through the indices array and replace with the corresponding value\n",
    "for i in range(indices.shape[0]):\n",
    "    for j in range(indices.shape[1]):\n",
    "        pxMatrix[i, j] = px[indices[i, j]]\n",
    "\n",
    "print(pxMatrix)"
   ]
  },
  {
   "cell_type": "code",
   "execution_count": 195,
   "metadata": {},
   "outputs": [],
   "source": [
    "mx = indices + 1"
   ]
  },
  {
   "cell_type": "code",
   "execution_count": 196,
   "metadata": {},
   "outputs": [
    {
     "name": "stdout",
     "output_type": "stream",
     "text": [
      "[[1, 20], [2, 12], [3, 13], [4, 1], [5, 12], [6, 15], [7, 1], [8, 5], [9, 19], [10, 13], [11, 1], [12, 2], [13, 15], [14, 15], [15, 6], [16, 12], [17, 15], [18, 13], [19, 12], [20, 1]]\n"
     ]
    }
   ],
   "source": [
    "max_index_values = []\n",
    "\n",
    "# Loop through each sub-array in the value array\n",
    "for i, sub_array in enumerate(pxMatrix):\n",
    "    # Find the index of the maximal value in the sub-array\n",
    "    max_index = np.argmax(sub_array)\n",
    "    # Get the corresponding index from the index array\n",
    "    max_index_value = mx[i, max_index]\n",
    "    # Append the max_index_value to the new array\n",
    "    max_index_values.append([i + 1, max_index_value])\n",
    "\n",
    "# Print the result\n",
    "print(max_index_values)"
   ]
  },
  {
   "cell_type": "code",
   "execution_count": 197,
   "metadata": {},
   "outputs": [],
   "source": [
    "def merge_subarrays(arrays):\n",
    "    # Flatten the list of subarrays into a single list\n",
    "    flattened = [item for sublist in arrays for item in sublist]\n",
    "\n",
    "    # Repeat until there are no changes\n",
    "    while True:\n",
    "        # Create a set of unique values in the flattened list\n",
    "        unique_values = set(flattened)\n",
    "\n",
    "        # Merge subarrays that have the same members and remove duplicates\n",
    "        new_arrays = []\n",
    "        for value in unique_values:\n",
    "            subarrays_with_value = [subarray for subarray in arrays if value in subarray]\n",
    "            if len(subarrays_with_value) > 1:\n",
    "                merged_subarray = list(set([item for sublist in subarrays_with_value for item in sublist]))\n",
    "                new_arrays.append(merged_subarray)\n",
    "            else:\n",
    "                new_arrays.extend(subarrays_with_value)\n",
    "\n",
    "        # Check if the arrays have changed and update the arrays if necessary\n",
    "        if new_arrays == arrays:\n",
    "            break\n",
    "        arrays = new_arrays\n",
    "        flattened = [item for sublist in arrays for item in sublist]\n",
    "\n",
    "    return arrays\n"
   ]
  },
  {
   "cell_type": "code",
   "execution_count": 198,
   "metadata": {},
   "outputs": [],
   "source": [
    "# merged = merge_subarrays(max_index_values)"
   ]
  },
  {
   "cell_type": "code",
   "execution_count": 199,
   "metadata": {},
   "outputs": [],
   "source": [
    "indptr = np.arange(len(scale)+1) * 1\n",
    "indices = indices.ravel()\n",
    "A = csr_matrix((pxMatrix.ravel(), indices, indptr), shape=(len(scale), len(scale)))\n",
    "n_components, labels = connected_components(csgraph=A, directed=False, return_labels=True)"
   ]
  },
  {
   "cell_type": "code",
   "execution_count": 200,
   "metadata": {},
   "outputs": [
    {
     "data": {
      "text/plain": [
       "4"
      ]
     },
     "execution_count": 200,
     "metadata": {},
     "output_type": "execute_result"
    }
   ],
   "source": [
    "n_components"
   ]
  },
  {
   "cell_type": "code",
   "execution_count": 201,
   "metadata": {},
   "outputs": [
    {
     "data": {
      "text/plain": [
       "array([0, 1, 0, 1, 2, 0, 0, 0, 1, 0, 0, 1, 1, 1, 0, 1, 3, 0, 0, 1])"
      ]
     },
     "execution_count": 201,
     "metadata": {},
     "output_type": "execute_result"
    }
   ],
   "source": [
    "labels"
   ]
  },
  {
   "cell_type": "code",
   "execution_count": 202,
   "metadata": {},
   "outputs": [
    {
     "data": {
      "image/png": "[encoded data removed]",
      "text/plain": [
       "<Figure size 640x480 with 1 Axes>"
      ]
     },
     "metadata": {},
     "output_type": "display_data"
    }
   ],
   "source": [
    "plt.scatter(scale[:,0], scale[:,1], c=labels)\n",
    "plt.show()"
   ]
  }
 ],
 "metadata": {
  "kernelspec": {
   "display_name": "env",
   "language": "python",
   "name": "python3"
  },
  "language_info": {
   "codemirror_mode": {
    "name": "ipython",
    "version": 3
   },
   "file_extension": ".py",
   "mimetype": "text/x-python",
   "name": "python",
   "nbconvert_exporter": "python",
   "pygments_lexer": "ipython3",
   "version": "3.10.0"
  },
  "orig_nbformat": 4,
  "vscode": {
   "interpreter": {
    "hash": "d7b04cc5ae93a69bfbb6789a48623c26e6dc055ec2fbd0a25dd36e2455bcecfe"
   }
  }
 },
 "nbformat": 4,
 "nbformat_minor": 2
}
