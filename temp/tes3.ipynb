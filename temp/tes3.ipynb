{
 "cells": [
  {
   "cell_type": "code",
   "execution_count": 4,
   "metadata": {},
   "outputs": [
    {
     "data": {
      "image/png": "[encoded data removed]",
      "text/plain": [
       "<Figure size 640x480 with 1 Axes>"
      ]
     },
     "metadata": {},
     "output_type": "display_data"
    }
   ],
   "source": [
    "import numpy as np\n",
    "import pandas as pd\n",
    "import matplotlib.pyplot as plt\n",
    "from sklearn.neighbors import NearestNeighbors, kneighbors_graph\n",
    "from scipy.sparse.csgraph import connected_components\n",
    "from scipy.sparse import csr_matrix\n",
    "from sklearn.preprocessing import StandardScaler\n",
    "from sklearn.preprocessing import LabelEncoder\n",
    "\n",
    "# Generate sample data\n",
    "# np.random.seed(0)\n",
    "# X = np.vstack((np.random.randn(100, 2) ,\n",
    "#                np.random.randn(100, 2) + np.array([5, 5])))\n",
    "# Plot the data\n",
    "# plt.scatter(X[:,0], X[:,1])\n",
    "\n",
    "df = pd.read_csv('dataset/test/manual_data.csv')\n",
    "df = [[-0.85673506, -0.09326591],\n",
    "       [-2.06846063,  0.07485079],\n",
    "       [ 2.81672179, -0.3403223 ],\n",
    "       [-0.90386811, -0.31415829],\n",
    "       [-1.91388751,  0.2967344 ],\n",
    "       [ 1.21185304,  0.11603131],\n",
    "       [-0.58586901,  0.0932076 ],\n",
    "       [-1.17044924,  1.11245742],\n",
    "       [-0.88903104, -0.78985994],\n",
    "       [ 2.7121504 ,  0.06158548],\n",
    "       [-0.66388178,  0.38591141],\n",
    "       [-1.94331481,  0.00303937],\n",
    "       [ 1.88471516, -0.02213341],\n",
    "       [ 0.79813542,  0.07417187],\n",
    "       [ 1.75071647,  0.08607933],\n",
    "       [-1.6841703 , -0.1769848 ],\n",
    "       [ 1.31642443, -0.28587646],\n",
    "       [ 2.60757901,  0.46349325],\n",
    "       [-1.80046325, -0.1415747 ],\n",
    "       [-0.61816498, -0.60338643]]\n",
    "# df = pd.read_csv('dataset/temp/dataset.csv')\n",
    "# df = df.apply(LabelEncoder().fit_transform)\n",
    "scaler = StandardScaler()\n",
    "scale = scaler.fit_transform(df)\n",
    "X = scale\n",
    "\n",
    "# Define parameters for KNN and KDE\n",
    "n_neighbors = 3\n",
    "bandwidth = 1.0\n",
    "\n",
    "# Perform KNN to identify core points\n",
    "knn = NearestNeighbors(n_neighbors=n_neighbors)\n",
    "knn.fit(X)\n",
    "dist, indices = knn.kneighbors(X)\n",
    "# A = kneighbors_graph(knn, n_neighbors=n_neighbors, mode='distance')\n",
    "data = np.maximum(0, 1 - dist / bandwidth)\n",
    "indptr = np.arange(len(X) + 1) * n_neighbors\n",
    "indices = indices.ravel()\n",
    "A = csr_matrix((data.ravel(), indices, indptr), shape=(len(X), len(X)))\n",
    "n_components, labels = connected_components(csgraph=A, directed=False, return_labels=True)\n",
    "\n",
    "# # Perform KDE on all points\n",
    "# kde = KernelDensity(kernel='gaussian', bandwidth=bandwidth)\n",
    "# kde.fit(X)\n",
    "# log_dens = kde.score_samples(X)\n",
    "\n",
    "# Plot the clusters\n",
    "plt.scatter(X[:,0], X[:,1], c=labels)\n",
    "plt.show()\n"
   ]
  },
  {
   "cell_type": "code",
   "execution_count": 77,
   "metadata": {},
   "outputs": [
    {
     "data": {
      "text/plain": [
       "array([0, 0, 1, 0, 0, 1, 0, 0, 0, 1, 0, 0, 1, 1, 1, 0, 1, 1, 0, 0])"
      ]
     },
     "execution_count": 77,
     "metadata": {},
     "output_type": "execute_result"
    }
   ],
   "source": [
    "labels"
   ]
  },
  {
   "cell_type": "code",
   "execution_count": 78,
   "metadata": {},
   "outputs": [
    {
     "data": {
      "text/plain": [
       "array([[1.        , 0.58421381, 0.58421381, 0.56648051],\n",
       "       [1.        , 0.92534975, 0.83555283, 0.79319073],\n",
       "       [1.        , 0.62813715, 0.        , 0.        ],\n",
       "       [1.        , 0.53461938, 0.49893538, 0.49487631],\n",
       "       [1.        , 0.73709485, 0.72670204, 0.68990004],\n",
       "       [1.        , 0.86581806, 0.53562059, 0.16589166],\n",
       "       [1.        , 0.53461938, 0.48333069, 0.43752692],\n",
       "       [1.        , 0.57065997, 0.38202925, 0.36544024],\n",
       "       [1.        , 0.53827729, 0.52964455, 0.50275071],\n",
       "       [1.        , 0.62813715, 0.26297058, 0.        ],\n",
       "       [1.        , 0.57065997, 0.51699161, 0.4312203 ],\n",
       "       [1.        , 0.92534975, 0.89838853, 0.78013018],\n",
       "       [1.        , 0.93106358, 0.27989127, 0.13512356],\n",
       "       [1.        , 0.86581806, 0.44286733, 0.03270771],\n",
       "       [1.        , 0.93106358, 0.28319853, 0.16589166],\n",
       "       [1.        , 0.89838853, 0.83555283, 0.79677706],\n",
       "       [1.        , 0.53562059, 0.44286733, 0.28319853],\n",
       "       [1.        , 0.26297058, 0.        , 0.        ],\n",
       "       [1.        , 0.79677706, 0.79319073, 0.78013018],\n",
       "       [1.        , 0.58421381, 0.53827729, 0.49487631]])"
      ]
     },
     "execution_count": 78,
     "metadata": {},
     "output_type": "execute_result"
    }
   ],
   "source": [
    "data"
   ]
  }
 ],
 "metadata": {
  "kernelspec": {
   "display_name": "env",
   "language": "python",
   "name": "python3"
  },
  "language_info": {
   "codemirror_mode": {
    "name": "ipython",
    "version": 3
   },
   "file_extension": ".py",
   "mimetype": "text/x-python",
   "name": "python",
   "nbconvert_exporter": "python",
   "pygments_lexer": "ipython3",
   "version": "3.10.0"
  },
  "orig_nbformat": 4
 },
 "nbformat": 4,
 "nbformat_minor": 2
}
