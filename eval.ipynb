{
 "cells": [
  {
   "cell_type": "code",
   "execution_count": 89,
   "metadata": {},
   "outputs": [],
   "source": [
    "import json"
   ]
  },
  {
   "cell_type": "code",
   "execution_count": 90,
   "metadata": {},
   "outputs": [],
   "source": [
    "with open('evaluation/kmeans.json', 'r') as file:\n",
    "    json_kmeans = json.load(file)\n",
    "\n",
    "with open('evaluation/hdbscan.json', 'r') as file:\n",
    "    json_hdbscan = json.load(file)\n",
    "\n",
    "with open('evaluation/hdbscan.json', 'r') as file:\n",
    "    json_hdbscan_pca = json.load(file)\n",
    "\n",
    "with open('evaluation/dbscan.json', 'r') as file:\n",
    "    json_dbscan = json.load(file)\n",
    "\n",
    "with open('evaluation/dbscan.json', 'r') as file:\n",
    "    json_optics = json.load(file)\n",
    "\n",
    "with open('evaluation/meanshift.json', 'r') as file:\n",
    "    json_meanshift = json.load(file)"
   ]
  },
  {
   "cell_type": "code",
   "execution_count": 91,
   "metadata": {},
   "outputs": [],
   "source": [
    "kmeans_filter_dataset1 = [item for item in json_kmeans if item[\"dataset\"] == \"onlineretail.csv\" and item[\"cluster\"] == 2 and item[\"extraction\"] == False]\n",
    "kmeans_filter_dataset2 = [item for item in json_kmeans if item[\"dataset\"] == \"bankchurners.csv\" and item[\"cluster\"] == 3 and item[\"extraction\"] == False]\n",
    "kmeans_filter_dataset3 = [item for item in json_kmeans if item[\"dataset\"] == \"dwimedialestari.csv\" and item[\"cluster\"] == 5 and item[\"extraction\"] == False]\n",
    "\n",
    "hdbscan_filter_dataset1 = [item for item in json_hdbscan if item[\"dataset\"] == \"onlineretail.csv\" and item[\"cluster\"] == 2 and item[\"extraction\"] == False]\n",
    "hdbscan_filter_dataset2 = [item for item in json_hdbscan if item[\"dataset\"] == \"bankchurners.csv\" and item[\"cluster\"] == 3 and item[\"extraction\"] == False]\n",
    "hdbscan_filter_dataset3 = [item for item in json_hdbscan if item[\"dataset\"] == \"dwimedialestari.csv\" and item[\"cluster\"] == 5 and item[\"extraction\"] == False]\n",
    "\n",
    "hdbscan_pca_filter_dataset1 = [item for item in json_hdbscan_pca if item[\"dataset\"] == \"onlineretail.csv\" and item[\"cluster\"] == 2 and item[\"extraction\"] == \"PCA\"]\n",
    "hdbscan_pca_filter_dataset2 = [item for item in json_hdbscan_pca if item[\"dataset\"] == \"bankchurners.csv\" and item[\"cluster\"] == 3 and item[\"extraction\"] == \"PCA\"]\n",
    "hdbscan_pca_filter_dataset3 = [item for item in json_hdbscan_pca if item[\"dataset\"] == \"dwimedialestari.csv\" and item[\"cluster\"] == 5 and item[\"extraction\"] == \"PCA\"]\n",
    "\n",
    "dbscan_filter_dataset1 = [item for item in json_dbscan if item[\"dataset\"] == \"onlineretail.csv\" and item[\"cluster\"] == 2 and item[\"extraction\"] == False]\n",
    "dbscan_filter_dataset2 = [item for item in json_dbscan if item[\"dataset\"] == \"bankchurners.csv\" and item[\"cluster\"] == 3 and item[\"extraction\"] == False]\n",
    "dbscan_filter_dataset3 = [item for item in json_dbscan if item[\"dataset\"] == \"dwimedialestari.csv\" and item[\"cluster\"] == 5 and item[\"extraction\"] == False]\n",
    "\n",
    "optics_filter_dataset1 = [item for item in json_optics if item[\"dataset\"] == \"onlineretail.csv\" and item[\"cluster\"] == 2 and item[\"extraction\"] == False]\n",
    "optics_filter_dataset2 = [item for item in json_optics if item[\"dataset\"] == \"bankchurners.csv\" and item[\"cluster\"] == 3 and item[\"extraction\"] == False]\n",
    "optics_filter_dataset3 = [item for item in json_optics if item[\"dataset\"] == \"dwimedialestari.csv\" and item[\"cluster\"] == 5 and item[\"extraction\"] == False]\n",
    "\n",
    "meanshift_filter_dataset1 = [item for item in json_meanshift if item[\"dataset\"] == \"onlineretail.csv\" and item[\"cluster\"] == 2 and item[\"extraction\"] == False]\n",
    "meanshift_filter_dataset2 = [item for item in json_meanshift if item[\"dataset\"] == \"bankchurners.csv\" and item[\"cluster\"] == 3 and item[\"extraction\"] == False]\n",
    "meanshift_filter_dataset3 = [item for item in json_meanshift if item[\"dataset\"] == \"dwimedialestari.csv\" and item[\"cluster\"] == 5 and item[\"extraction\"] == False]\n"
   ]
  },
  {
   "cell_type": "code",
   "execution_count": 97,
   "metadata": {},
   "outputs": [
    {
     "data": {
      "text/plain": [
       "[]"
      ]
     },
     "execution_count": 97,
     "metadata": {},
     "output_type": "execute_result"
    }
   ],
   "source": [
    "meanshift_filter_dataset1"
   ]
  }
 ],
 "metadata": {
  "kernelspec": {
   "display_name": "env",
   "language": "python",
   "name": "python3"
  },
  "language_info": {
   "codemirror_mode": {
    "name": "ipython",
    "version": 3
   },
   "file_extension": ".py",
   "mimetype": "text/x-python",
   "name": "python",
   "nbconvert_exporter": "python",
   "pygments_lexer": "ipython3",
   "version": "3.10.0"
  },
  "orig_nbformat": 4
 },
 "nbformat": 4,
 "nbformat_minor": 2
}
